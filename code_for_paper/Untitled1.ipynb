{
 "cells": [
  {
   "cell_type": "code",
   "execution_count": 1,
   "id": "7bf255f9",
   "metadata": {},
   "outputs": [],
   "source": [
    "import pandas as pd\n",
    "import pandas_datareader.data as web\n",
    "import datetime\n",
    "import matplotlib.pyplot as plt\n",
    "import mplfinance as mpf\n",
    "from sklearn.preprocessing import MinMaxScaler\n",
    "import numpy as np"
   ]
  },
  {
   "cell_type": "code",
   "execution_count": 77,
   "id": "c592e2df",
   "metadata": {},
   "outputs": [],
   "source": [
    "data_df=web.DataReader('036570.KS', 'yahoo', '2020-05-29', '2020-11-05')\n",
    "data_df=data_df.iloc[-11:,:]\n",
    "close_10=data_df.iloc[-2,:]['Close']\n",
    "# max_value=data_df.iloc[-11:-1,:]['High'].max()\n",
    "# min_value=data_df.iloc[-11:-1,:]['Low'].min()\n",
    "# data_df=(data_df-min_value)/(max_value-min_value)\n",
    "data_df=np.log10(data_df/close_10)\n",
    "\n",
    "data_df.iloc[-1,:] = [-0.015,-0.015,-0.015,-0.015,-0.015,-0.015]"
   ]
  },
  {
   "cell_type": "code",
   "execution_count": 78,
   "id": "0e5f2648",
   "metadata": {
    "scrolled": false
   },
   "outputs": [
    {
     "data": {
      "text/plain": [
       "Text(0, 0.5, 'Scaled Price')"
      ]
     },
     "execution_count": 78,
     "metadata": {},
     "output_type": "execute_result"
    },
    {
     "data": {
      "image/png": "[encoded data removed]",
      "text/plain": [
       "<Figure size 864x504 with 1 Axes>"
      ]
     },
     "metadata": {
      "needs_background": "light"
     },
     "output_type": "display_data"
    }
   ],
   "source": [
    "date_lst = ['D-9', 'D-8', 'D-7', 'D-6', 'D-5', 'D-4', 'D-3', 'D-2', 'D-1', 'D-0', 'D+1']\n",
    "colorset = mpf.make_marketcolors(up='tab:red', down='tab:blue', volume='tab:blue')\n",
    "s = mpf.make_mpf_style(marketcolors=colorset)\n",
    "fig, ax = plt.subplots(1,1,figsize=(12,7))\n",
    "mpf.plot(data_df, type = 'candle',style=s,ax=ax)\n",
    "ax.set_xticks(range(11))\n",
    "ax.set_xticklabels(date_lst, fontsize=18, rotation=30)\n",
    "\n",
    "_=plt.yticks(fontsize=20)\n",
    "ax.set_ylabel('Scaled Price', fontsize=20)\n",
    "# ax.set_xlabel('10 days data for predict', fontsize=20)"
   ]
  },
  {
   "cell_type": "markdown",
   "id": "148578b6",
   "metadata": {},
   "source": [
    "### 4번 스케일링 플롯"
   ]
  },
  {
   "cell_type": "code",
   "execution_count": 88,
   "id": "f290f5ef",
   "metadata": {},
   "outputs": [
    {
     "data": {
      "text/html": [
       "<div>\n",
       "<style scoped>\n",
       "    .dataframe tbody tr th:only-of-type {\n",
       "        vertical-align: middle;\n",
       "    }\n",
       "\n",
       "    .dataframe tbody tr th {\n",
       "        vertical-align: top;\n",
       "    }\n",
       "\n",
       "    .dataframe thead th {\n",
       "        text-align: right;\n",
       "    }\n",
       "</style>\n",
       "<table border=\"1\" class=\"dataframe\">\n",
       "  <thead>\n",
       "    <tr style=\"text-align: right;\">\n",
       "      <th></th>\n",
       "      <th>High</th>\n",
       "      <th>Low</th>\n",
       "      <th>Open</th>\n",
       "      <th>Close</th>\n",
       "      <th>Volume</th>\n",
       "      <th>Adj Close</th>\n",
       "    </tr>\n",
       "    <tr>\n",
       "      <th>Date</th>\n",
       "      <th></th>\n",
       "      <th></th>\n",
       "      <th></th>\n",
       "      <th></th>\n",
       "      <th></th>\n",
       "      <th></th>\n",
       "    </tr>\n",
       "  </thead>\n",
       "  <tbody>\n",
       "    <tr>\n",
       "      <th>2020-10-22</th>\n",
       "      <td>820000</td>\n",
       "      <td>798000</td>\n",
       "      <td>807000</td>\n",
       "      <td>811000</td>\n",
       "      <td>85163</td>\n",
       "      <td>796102.6875</td>\n",
       "    </tr>\n",
       "    <tr>\n",
       "      <th>2020-10-23</th>\n",
       "      <td>816000</td>\n",
       "      <td>791000</td>\n",
       "      <td>816000</td>\n",
       "      <td>796000</td>\n",
       "      <td>80718</td>\n",
       "      <td>781378.1875</td>\n",
       "    </tr>\n",
       "    <tr>\n",
       "      <th>2020-10-26</th>\n",
       "      <td>809000</td>\n",
       "      <td>788000</td>\n",
       "      <td>794000</td>\n",
       "      <td>796000</td>\n",
       "      <td>49132</td>\n",
       "      <td>781378.1875</td>\n",
       "    </tr>\n",
       "    <tr>\n",
       "      <th>2020-10-27</th>\n",
       "      <td>800000</td>\n",
       "      <td>780000</td>\n",
       "      <td>785000</td>\n",
       "      <td>782000</td>\n",
       "      <td>81633</td>\n",
       "      <td>767635.3750</td>\n",
       "    </tr>\n",
       "    <tr>\n",
       "      <th>2020-10-28</th>\n",
       "      <td>803000</td>\n",
       "      <td>775000</td>\n",
       "      <td>776000</td>\n",
       "      <td>802000</td>\n",
       "      <td>78286</td>\n",
       "      <td>787268.0000</td>\n",
       "    </tr>\n",
       "    <tr>\n",
       "      <th>2020-10-29</th>\n",
       "      <td>815000</td>\n",
       "      <td>793000</td>\n",
       "      <td>795000</td>\n",
       "      <td>813000</td>\n",
       "      <td>88029</td>\n",
       "      <td>798065.9375</td>\n",
       "    </tr>\n",
       "    <tr>\n",
       "      <th>2020-10-30</th>\n",
       "      <td>813000</td>\n",
       "      <td>774000</td>\n",
       "      <td>811000</td>\n",
       "      <td>776000</td>\n",
       "      <td>92285</td>\n",
       "      <td>761745.6250</td>\n",
       "    </tr>\n",
       "    <tr>\n",
       "      <th>2020-11-02</th>\n",
       "      <td>795000</td>\n",
       "      <td>777000</td>\n",
       "      <td>782000</td>\n",
       "      <td>778000</td>\n",
       "      <td>48696</td>\n",
       "      <td>763708.8750</td>\n",
       "    </tr>\n",
       "    <tr>\n",
       "      <th>2020-11-03</th>\n",
       "      <td>792000</td>\n",
       "      <td>778000</td>\n",
       "      <td>778000</td>\n",
       "      <td>782000</td>\n",
       "      <td>48350</td>\n",
       "      <td>767635.3750</td>\n",
       "    </tr>\n",
       "    <tr>\n",
       "      <th>2020-11-04</th>\n",
       "      <td>838000</td>\n",
       "      <td>787000</td>\n",
       "      <td>791000</td>\n",
       "      <td>837000</td>\n",
       "      <td>197108</td>\n",
       "      <td>821625.0625</td>\n",
       "    </tr>\n",
       "    <tr>\n",
       "      <th>2020-11-05</th>\n",
       "      <td>847000</td>\n",
       "      <td>826000</td>\n",
       "      <td>847000</td>\n",
       "      <td>843000</td>\n",
       "      <td>108701</td>\n",
       "      <td>827514.8125</td>\n",
       "    </tr>\n",
       "  </tbody>\n",
       "</table>\n",
       "</div>"
      ],
      "text/plain": [
       "              High     Low    Open   Close  Volume    Adj Close\n",
       "Date                                                           \n",
       "2020-10-22  820000  798000  807000  811000   85163  796102.6875\n",
       "2020-10-23  816000  791000  816000  796000   80718  781378.1875\n",
       "2020-10-26  809000  788000  794000  796000   49132  781378.1875\n",
       "2020-10-27  800000  780000  785000  782000   81633  767635.3750\n",
       "2020-10-28  803000  775000  776000  802000   78286  787268.0000\n",
       "2020-10-29  815000  793000  795000  813000   88029  798065.9375\n",
       "2020-10-30  813000  774000  811000  776000   92285  761745.6250\n",
       "2020-11-02  795000  777000  782000  778000   48696  763708.8750\n",
       "2020-11-03  792000  778000  778000  782000   48350  767635.3750\n",
       "2020-11-04  838000  787000  791000  837000  197108  821625.0625\n",
       "2020-11-05  847000  826000  847000  843000  108701  827514.8125"
      ]
     },
     "execution_count": 88,
     "metadata": {},
     "output_type": "execute_result"
    }
   ],
   "source": [
    "data_df_10_df"
   ]
  },
  {
   "cell_type": "code",
   "execution_count": 89,
   "id": "300703bd",
   "metadata": {},
   "outputs": [],
   "source": [
    "data_df=web.DataReader('036570.KS', 'yahoo', '2020-05-29', '2020-11-05')\n",
    "data_df_10_df = data_df[-11:]\n",
    "data_df_10_lst = data_df[-11:].values.tolist()\n",
    "close_lst = data_df[-12:-1]['Close']\n",
    "\n",
    "result2 = []\n",
    "for i,(row, close_value) in enumerate(zip(data_df_10_lst, close_lst)):\n",
    "    result = []\n",
    "    for price in row[:4]:\n",
    "        result += [(price/close_value)-1]\n",
    "    result2.append( result )"
   ]
  },
  {
   "cell_type": "code",
   "execution_count": 90,
   "id": "b112b7f2",
   "metadata": {},
   "outputs": [],
   "source": [
    "scaled_data_df = pd.DataFrame(result2, columns=['High','Low','Open','Close'])"
   ]
  },
  {
   "cell_type": "code",
   "execution_count": 94,
   "id": "db395e9f",
   "metadata": {},
   "outputs": [
    {
     "data": {
      "text/html": [
       "<div>\n",
       "<style scoped>\n",
       "    .dataframe tbody tr th:only-of-type {\n",
       "        vertical-align: middle;\n",
       "    }\n",
       "\n",
       "    .dataframe tbody tr th {\n",
       "        vertical-align: top;\n",
       "    }\n",
       "\n",
       "    .dataframe thead th {\n",
       "        text-align: right;\n",
       "    }\n",
       "</style>\n",
       "<table border=\"1\" class=\"dataframe\">\n",
       "  <thead>\n",
       "    <tr style=\"text-align: right;\">\n",
       "      <th></th>\n",
       "      <th>High</th>\n",
       "      <th>Low</th>\n",
       "      <th>Open</th>\n",
       "      <th>Close</th>\n",
       "    </tr>\n",
       "    <tr>\n",
       "      <th>Date</th>\n",
       "      <th></th>\n",
       "      <th></th>\n",
       "      <th></th>\n",
       "      <th></th>\n",
       "    </tr>\n",
       "  </thead>\n",
       "  <tbody>\n",
       "    <tr>\n",
       "      <th>2020-10-22</th>\n",
       "      <td>0.013597</td>\n",
       "      <td>-0.013597</td>\n",
       "      <td>-0.002472</td>\n",
       "      <td>0.002472</td>\n",
       "    </tr>\n",
       "    <tr>\n",
       "      <th>2020-10-23</th>\n",
       "      <td>0.006165</td>\n",
       "      <td>-0.024661</td>\n",
       "      <td>0.006165</td>\n",
       "      <td>-0.018496</td>\n",
       "    </tr>\n",
       "    <tr>\n",
       "      <th>2020-10-26</th>\n",
       "      <td>0.016332</td>\n",
       "      <td>-0.010050</td>\n",
       "      <td>-0.002513</td>\n",
       "      <td>0.000000</td>\n",
       "    </tr>\n",
       "    <tr>\n",
       "      <th>2020-10-27</th>\n",
       "      <td>0.005025</td>\n",
       "      <td>-0.020101</td>\n",
       "      <td>-0.013819</td>\n",
       "      <td>-0.017588</td>\n",
       "    </tr>\n",
       "    <tr>\n",
       "      <th>2020-10-28</th>\n",
       "      <td>0.026854</td>\n",
       "      <td>-0.008951</td>\n",
       "      <td>-0.007673</td>\n",
       "      <td>0.025575</td>\n",
       "    </tr>\n",
       "    <tr>\n",
       "      <th>2020-10-29</th>\n",
       "      <td>0.016209</td>\n",
       "      <td>-0.011222</td>\n",
       "      <td>-0.008728</td>\n",
       "      <td>0.013716</td>\n",
       "    </tr>\n",
       "    <tr>\n",
       "      <th>2020-10-30</th>\n",
       "      <td>0.000000</td>\n",
       "      <td>-0.047970</td>\n",
       "      <td>-0.002460</td>\n",
       "      <td>-0.045510</td>\n",
       "    </tr>\n",
       "    <tr>\n",
       "      <th>2020-11-02</th>\n",
       "      <td>0.024485</td>\n",
       "      <td>0.001289</td>\n",
       "      <td>0.007732</td>\n",
       "      <td>0.002577</td>\n",
       "    </tr>\n",
       "    <tr>\n",
       "      <th>2020-11-03</th>\n",
       "      <td>0.017995</td>\n",
       "      <td>0.000000</td>\n",
       "      <td>0.000000</td>\n",
       "      <td>0.005141</td>\n",
       "    </tr>\n",
       "    <tr>\n",
       "      <th>2020-11-04</th>\n",
       "      <td>0.071611</td>\n",
       "      <td>0.006394</td>\n",
       "      <td>0.011509</td>\n",
       "      <td>0.070332</td>\n",
       "    </tr>\n",
       "    <tr>\n",
       "      <th>2020-11-05</th>\n",
       "      <td>0.000000</td>\n",
       "      <td>0.000000</td>\n",
       "      <td>0.000000</td>\n",
       "      <td>0.000000</td>\n",
       "    </tr>\n",
       "  </tbody>\n",
       "</table>\n",
       "</div>"
      ],
      "text/plain": [
       "                High       Low      Open     Close\n",
       "Date                                              \n",
       "2020-10-22  0.013597 -0.013597 -0.002472  0.002472\n",
       "2020-10-23  0.006165 -0.024661  0.006165 -0.018496\n",
       "2020-10-26  0.016332 -0.010050 -0.002513  0.000000\n",
       "2020-10-27  0.005025 -0.020101 -0.013819 -0.017588\n",
       "2020-10-28  0.026854 -0.008951 -0.007673  0.025575\n",
       "2020-10-29  0.016209 -0.011222 -0.008728  0.013716\n",
       "2020-10-30  0.000000 -0.047970 -0.002460 -0.045510\n",
       "2020-11-02  0.024485  0.001289  0.007732  0.002577\n",
       "2020-11-03  0.017995  0.000000  0.000000  0.005141\n",
       "2020-11-04  0.071611  0.006394  0.011509  0.070332\n",
       "2020-11-05  0.000000  0.000000  0.000000  0.000000"
      ]
     },
     "execution_count": 94,
     "metadata": {},
     "output_type": "execute_result"
    }
   ],
   "source": [
    "scaled_data_df.index = data_df_10_df.index\n",
    "scaled_data_df.iloc[-1,:]=[0,0,0,0]\n",
    "scaled_data_df"
   ]
  },
  {
   "cell_type": "code",
   "execution_count": 95,
   "id": "0b219745",
   "metadata": {},
   "outputs": [
    {
     "data": {
      "text/plain": [
       "Text(0, 0.5, 'Scaled Price')"
      ]
     },
     "execution_count": 95,
     "metadata": {},
     "output_type": "execute_result"
    },
    {
     "data": {
      "image/png": "[encoded data removed]",
      "text/plain": [
       "<Figure size 864x360 with 1 Axes>"
      ]
     },
     "metadata": {
      "needs_background": "light"
     },
     "output_type": "display_data"
    }
   ],
   "source": [
    "date_lst = ['D-9', 'D-8', 'D-7', 'D-6', 'D-5', 'D-4', 'D-3', 'D-2', 'D-1', 'D-0', 'D+1']\n",
    "colorset = mpf.make_marketcolors(up='tab:red', down='tab:blue', volume='tab:blue')\n",
    "s = mpf.make_mpf_style(marketcolors=colorset)\n",
    "fig, ax = plt.subplots(1,1,figsize=(12,5))\n",
    "mpf.plot(scaled_data_df, type = 'candle',style=s,ax=ax)\n",
    "ax.set_xticks(range(11))\n",
    "ax.set_xticklabels(date_lst, fontsize=18)\n",
    "\n",
    "_=plt.yticks(fontsize=20)\n",
    "ax.set_ylabel('Scaled Price', fontsize=20)"
   ]
  },
  {
   "cell_type": "code",
   "execution_count": null,
   "id": "c7b7f78a",
   "metadata": {},
   "outputs": [],
   "source": []
  },
  {
   "cell_type": "code",
   "execution_count": null,
   "id": "5c2f9fe7",
   "metadata": {},
   "outputs": [],
   "source": []
  },
  {
   "cell_type": "code",
   "execution_count": null,
   "id": "73fbfc36",
   "metadata": {},
   "outputs": [],
   "source": []
  }
 ],
 "metadata": {
  "kernelspec": {
   "display_name": "Python 3 (ipykernel)",
   "language": "python",
   "name": "python3"
  },
  "language_info": {
   "codemirror_mode": {
    "name": "ipython",
    "version": 3
   },
   "file_extension": ".py",
   "mimetype": "text/x-python",
   "name": "python",
   "nbconvert_exporter": "python",
   "pygments_lexer": "ipython3",
   "version": "3.8.12"
  },
  "toc": {
   "base_numbering": 1,
   "nav_menu": {},
   "number_sections": true,
   "sideBar": true,
   "skip_h1_title": false,
   "title_cell": "Table of Contents",
   "title_sidebar": "Contents",
   "toc_cell": false,
   "toc_position": {},
   "toc_section_display": true,
   "toc_window_display": false
  }
 },
 "nbformat": 4,
 "nbformat_minor": 5
}
