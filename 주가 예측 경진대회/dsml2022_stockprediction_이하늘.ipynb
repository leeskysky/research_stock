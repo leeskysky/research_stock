{
 "cells": [
  {
   "cell_type": "code",
   "execution_count": 1,
   "id": "ff802eb1",
   "metadata": {},
   "outputs": [],
   "source": [
    "import os\n",
    "import time\n",
    "import pandas as pd\n",
    "import numpy as np\n",
    "import datetime\n",
    "import pymysql\n",
    "from sqlalchemy import create_engine\n",
    "import FinanceDataReader as fdr\n",
    "from tqdm import tqdm"
   ]
  },
  {
   "cell_type": "code",
   "execution_count": 5,
   "id": "3121384a",
   "metadata": {},
   "outputs": [],
   "source": [
    "code_data = pd.read_csv('./raw_data.csv', index_col = 0)\n",
    "code_data['상장일'] = pd.to_datetime(code_data['상장일'])\n",
    "code_data['종목코드'] = code_data['종목코드'].apply(lambda x: str(x).zfill(6))"
   ]
  },
  {
   "cell_type": "code",
   "execution_count": 6,
   "id": "8fde2de1",
   "metadata": {},
   "outputs": [
    {
     "data": {
      "text/html": [
       "<div>\n",
       "<style scoped>\n",
       "    .dataframe tbody tr th:only-of-type {\n",
       "        vertical-align: middle;\n",
       "    }\n",
       "\n",
       "    .dataframe tbody tr th {\n",
       "        vertical-align: top;\n",
       "    }\n",
       "\n",
       "    .dataframe thead th {\n",
       "        text-align: right;\n",
       "    }\n",
       "</style>\n",
       "<table border=\"1\" class=\"dataframe\">\n",
       "  <thead>\n",
       "    <tr style=\"text-align: right;\">\n",
       "      <th></th>\n",
       "      <th>회사명</th>\n",
       "      <th>종목코드</th>\n",
       "      <th>업종</th>\n",
       "      <th>주요제품</th>\n",
       "      <th>상장일</th>\n",
       "      <th>결산월</th>\n",
       "      <th>대표자명</th>\n",
       "      <th>홈페이지</th>\n",
       "      <th>지역</th>\n",
       "    </tr>\n",
       "  </thead>\n",
       "  <tbody>\n",
       "    <tr>\n",
       "      <th>0</th>\n",
       "      <td>DL</td>\n",
       "      <td>000210</td>\n",
       "      <td>기타 금융업</td>\n",
       "      <td>지주회사</td>\n",
       "      <td>1976-02-02</td>\n",
       "      <td>12월</td>\n",
       "      <td>전병욱</td>\n",
       "      <td>http://www.dlholdings.co.kr</td>\n",
       "      <td>서울특별시</td>\n",
       "    </tr>\n",
       "    <tr>\n",
       "      <th>1</th>\n",
       "      <td>DRB동일</td>\n",
       "      <td>004840</td>\n",
       "      <td>고무제품 제조업</td>\n",
       "      <td>고무벨트(V벨트,콘베이어벨트,평벨트),프라스틱제품 제조,판매</td>\n",
       "      <td>1976-05-21</td>\n",
       "      <td>12월</td>\n",
       "      <td>류영식</td>\n",
       "      <td>http://drbworld.com</td>\n",
       "      <td>부산광역시</td>\n",
       "    </tr>\n",
       "    <tr>\n",
       "      <th>2</th>\n",
       "      <td>DSR</td>\n",
       "      <td>155660</td>\n",
       "      <td>1차 비철금속 제조업</td>\n",
       "      <td>합섬섬유로프</td>\n",
       "      <td>2013-05-15</td>\n",
       "      <td>12월</td>\n",
       "      <td>홍석빈</td>\n",
       "      <td>http://www.dsr.com</td>\n",
       "      <td>부산광역시</td>\n",
       "    </tr>\n",
       "    <tr>\n",
       "      <th>3</th>\n",
       "      <td>GS</td>\n",
       "      <td>078930</td>\n",
       "      <td>기타 금융업</td>\n",
       "      <td>지주회사/부동산 임대</td>\n",
       "      <td>2004-08-05</td>\n",
       "      <td>12월</td>\n",
       "      <td>허태수, 홍순기 (각자 대표이사)</td>\n",
       "      <td>NaN</td>\n",
       "      <td>서울특별시</td>\n",
       "    </tr>\n",
       "    <tr>\n",
       "      <th>4</th>\n",
       "      <td>GS글로벌</td>\n",
       "      <td>001250</td>\n",
       "      <td>상품 종합 도매업</td>\n",
       "      <td>수출입업(시멘트,철강금속,전기전자,섬유,기계화학),상품중개,광업,채석업/하수처리 서...</td>\n",
       "      <td>1976-06-26</td>\n",
       "      <td>12월</td>\n",
       "      <td>김태형</td>\n",
       "      <td>http://www.gsgcorp.com</td>\n",
       "      <td>서울특별시</td>\n",
       "    </tr>\n",
       "  </tbody>\n",
       "</table>\n",
       "</div>"
      ],
      "text/plain": [
       "     회사명    종목코드           업종  \\\n",
       "0     DL  000210       기타 금융업   \n",
       "1  DRB동일  004840     고무제품 제조업   \n",
       "2    DSR  155660  1차 비철금속 제조업   \n",
       "3     GS  078930       기타 금융업   \n",
       "4  GS글로벌  001250    상품 종합 도매업   \n",
       "\n",
       "                                                주요제품        상장일  결산월  \\\n",
       "0                                               지주회사 1976-02-02  12월   \n",
       "1                  고무벨트(V벨트,콘베이어벨트,평벨트),프라스틱제품 제조,판매 1976-05-21  12월   \n",
       "2                                             합섬섬유로프 2013-05-15  12월   \n",
       "3                                        지주회사/부동산 임대 2004-08-05  12월   \n",
       "4  수출입업(시멘트,철강금속,전기전자,섬유,기계화학),상품중개,광업,채석업/하수처리 서... 1976-06-26  12월   \n",
       "\n",
       "                 대표자명                         홈페이지     지역  \n",
       "0                 전병욱  http://www.dlholdings.co.kr  서울특별시  \n",
       "1                 류영식          http://drbworld.com  부산광역시  \n",
       "2                 홍석빈           http://www.dsr.com  부산광역시  \n",
       "3  허태수, 홍순기 (각자 대표이사)                          NaN  서울특별시  \n",
       "4                 김태형       http://www.gsgcorp.com  서울특별시  "
      ]
     },
     "execution_count": 6,
     "metadata": {},
     "output_type": "execute_result"
    }
   ],
   "source": [
    "code_data[:5]"
   ]
  },
  {
   "cell_type": "markdown",
   "id": "ef875488",
   "metadata": {},
   "source": [
    "# 과제1"
   ]
  },
  {
   "cell_type": "code",
   "execution_count": 7,
   "id": "cb64d82d",
   "metadata": {},
   "outputs": [],
   "source": [
    "lst_stock = code_data.values.tolist()"
   ]
  },
  {
   "cell_type": "code",
   "execution_count": 8,
   "id": "797d1e6a",
   "metadata": {},
   "outputs": [],
   "source": [
    "\n",
    "dic_code2company = {}\n",
    "for row in lst_stock:\n",
    "    company, code, date = row[0], row[1], row[4]\n",
    "    if date <= datetime.datetime(2018, 1, 2):\n",
    "        dic_code2company[code] = company"
   ]
  },
  {
   "cell_type": "code",
   "execution_count": 9,
   "id": "dfb4ec7f",
   "metadata": {},
   "outputs": [],
   "source": [
    "OF = open('assignment1_sql.txt', 'w', encoding = 'utf-8')\n",
    "for code in dic_code2company.keys():\n",
    "    data = '{}\\t{}\\n'.format(code, dic_code2company[code])\n",
    "    OF.write(data)\n",
    "OF.close()"
   ]
  },
  {
   "cell_type": "markdown",
   "id": "a4584e27",
   "metadata": {},
   "source": [
    "# 과제2"
   ]
  },
  {
   "cell_type": "code",
   "execution_count": 2,
   "id": "ba01e576",
   "metadata": {},
   "outputs": [],
   "source": [
    "db_dsml = pymysql.connect(\n",
    "    host = 'localhost', \n",
    "    port = 3306, \n",
    "    user = 'stock_user', \n",
    "    passwd = 'bigdata', \n",
    "    db = 'stock', \n",
    "    charset = 'utf8'\n",
    ")\n",
    "\n",
    "cursor = db_dsml.cursor()"
   ]
  },
  {
   "cell_type": "code",
   "execution_count": 298,
   "id": "8b68ff79",
   "metadata": {},
   "outputs": [
    {
     "name": "stderr",
     "output_type": "stream",
     "text": [
      "100%|█████████████████████████████████████████████████████████████████████████████████████████████████████████████████████████████████████████████████████████████████████| 1999/1999 [00:31<00:00, 63.14it/s]\n"
     ]
    }
   ],
   "source": [
    "dic_code2date = {}\n",
    "\n",
    "OF = open('assignment2_백억.txt', 'w', encoding = 'utf-8')\n",
    "for code in tqdm(dic_code2company.keys()):\n",
    "    sql_query = '''\n",
    "                SELECT *\n",
    "                FROM stock_{}\n",
    "                WHERE Date\n",
    "                BETWEEN '2018-01-01' AND '2021-12-31'\n",
    "                '''.format(code)\n",
    "    stock = pd.read_sql(sql = sql_query, con = db_dsml)\n",
    "    lst_stock = stock.values.tolist()\n",
    "    \n",
    "    for row in lst_stock:\n",
    "        if row[4] * row[5] >= 10000000000:\n",
    "            data = '{}\\t{}\\n'.format(code, row[0].strftime('%Y%m%d'))\n",
    "            OF.write(data)\n",
    "            if code not in dic_code2date.keys():\n",
    "                dic_code2date[code] = []\n",
    "                dic_code2date[code].append(row[0])\n",
    "            else:\n",
    "                dic_code2date[code].append(row[0])\n",
    "OF.close()"
   ]
  },
  {
   "cell_type": "markdown",
   "id": "63585083",
   "metadata": {},
   "source": [
    "# 과제3"
   ]
  },
  {
   "cell_type": "code",
   "execution_count": 22,
   "id": "fbfe29a3",
   "metadata": {},
   "outputs": [
    {
     "name": "stderr",
     "output_type": "stream",
     "text": [
      "100%|█████████████████████████████████████████████████████████████████████████████████████████████████████████████████████████████████████████████████████████████████████| 1878/1878 [00:28<00:00, 66.82it/s]\n"
     ]
    }
   ],
   "source": [
    "OF = open('assignment3_백억.txt', 'w', encoding = 'utf-8')\n",
    "for code in tqdm(dic_code2date.keys()):\n",
    "    sql_query = '''\n",
    "                SELECT *\n",
    "                FROM stock_{}\n",
    "                WHERE Date\n",
    "                BETWEEN '2018-01-01' AND '2020-12-31'\n",
    "                '''.format(code)\n",
    "    stock = pd.read_sql(sql = sql_query, con = db_dsml)\n",
    "    lst_stock = stock.values.tolist()\n",
    "    \n",
    "    for i, row_lst_stock in enumerate(lst_stock):\n",
    "        # 예외 처리\n",
    "        if (i < 9) or (i >= len(lst_stock)-1):\n",
    "            continue  \n",
    "        date = row_lst_stock[0]\n",
    "        if date not in dic_code2date[code]:\n",
    "            continue\n",
    "        \n",
    "        # 11 days data\n",
    "        sub_stock = lst_stock[i-9:i+1]\n",
    "        lst_data = []\n",
    "        for row_sub_stock in sub_stock:\n",
    "            open, high, low, close, volume = row_sub_stock[1:6]\n",
    "            trading_value = close * volume\n",
    "            lst_data += [open, high, low, close, trading_value]\n",
    "            del open\n",
    "        data = ','.join(map(str, lst_data))\n",
    "        \n",
    "        # label\n",
    "        label = int(lst_stock[i+1][-1] >= 0.03)\n",
    "        \n",
    "        result = '{}\\t{}\\t{}\\t{}\\n'.format(code, date.strftime(\"%Y%m%d\"), data, label)\n",
    "        OF.write(result)\n",
    "OF.close()"
   ]
  },
  {
   "cell_type": "markdown",
   "id": "8a1a8002",
   "metadata": {},
   "source": [
    "# 과제 3-2 (상반기)"
   ]
  },
  {
   "cell_type": "code",
   "execution_count": 299,
   "id": "ea46722a",
   "metadata": {},
   "outputs": [
    {
     "name": "stderr",
     "output_type": "stream",
     "text": [
      "100%|████████████████████████████████████████████████████████████████████████████████████████████████████████████████████████████████████████████████████████████████████| 1878/1878 [00:07<00:00, 258.32it/s]\n"
     ]
    }
   ],
   "source": [
    "OF = open('assignment3-2_백억.txt', 'w', encoding = 'utf-8')\n",
    "for code in tqdm(dic_code2date.keys()):\n",
    "    sql_query = '''\n",
    "                SELECT *\n",
    "                FROM stock_{}\n",
    "                WHERE Date\n",
    "                BETWEEN '2021-01-01' AND '2021-06-30'\n",
    "                '''.format(code)\n",
    "    stock = pd.read_sql(sql = sql_query, con = db_dsml)\n",
    "    lst_stock = stock.values.tolist()\n",
    "    \n",
    "    for i, row_lst_stock in enumerate(lst_stock):\n",
    "        # 예외 처리\n",
    "        if (i < 9) or (i >= len(lst_stock)-1):\n",
    "            continue  \n",
    "        date = row_lst_stock[0]\n",
    "        if date not in dic_code2date[code]:\n",
    "            continue\n",
    "        \n",
    "        # 11 days data\n",
    "        sub_stock = lst_stock[i-9:i+1]\n",
    "        lst_data = []\n",
    "        for row_sub_stock in sub_stock:\n",
    "            open, high, low, close, volume = row_sub_stock[1:6]\n",
    "            trading_value = close * volume\n",
    "            lst_data += [open, high, low, close, trading_value]\n",
    "            del open\n",
    "        data = ','.join(map(str, lst_data))\n",
    "        \n",
    "        # label\n",
    "        label = int(lst_stock[i+1][-1] >= 0.03)\n",
    "        \n",
    "        result = '{}\\t{}\\t{}\\t{}\\n'.format(code, date.strftime(\"%Y%m%d\"), data, label)\n",
    "        OF.write(result)\n",
    "OF.close()"
   ]
  },
  {
   "cell_type": "markdown",
   "id": "ac036149",
   "metadata": {},
   "source": [
    "# 과제 3-3 (하반기)"
   ]
  },
  {
   "cell_type": "code",
   "execution_count": 300,
   "id": "a0451708",
   "metadata": {},
   "outputs": [
    {
     "name": "stderr",
     "output_type": "stream",
     "text": [
      "100%|████████████████████████████████████████████████████████████████████████████████████████████████████████████████████████████████████████████████████████████████████| 1878/1878 [00:07<00:00, 251.66it/s]\n"
     ]
    }
   ],
   "source": [
    "OF = open('assignment3-3_백억.txt', 'w', encoding = 'utf-8')\n",
    "for code in tqdm(dic_code2date.keys()):\n",
    "    sql_query = '''\n",
    "                SELECT *\n",
    "                FROM stock_{}\n",
    "                WHERE Date\n",
    "                BETWEEN '2021-07-01' AND '2021-12-31'\n",
    "                '''.format(code)\n",
    "    stock = pd.read_sql(sql = sql_query, con = db_dsml)\n",
    "    lst_stock = stock.values.tolist()\n",
    "    \n",
    "    for i, row_lst_stock in enumerate(lst_stock):\n",
    "        # 예외 처리\n",
    "        if (i < 9) or (i >= len(lst_stock)-1):\n",
    "            continue  \n",
    "        date = row_lst_stock[0]\n",
    "        if date not in dic_code2date[code]:\n",
    "            continue\n",
    "        \n",
    "        # 11 days data\n",
    "        sub_stock = lst_stock[i-9:i+1]\n",
    "        lst_data = []\n",
    "        for row_sub_stock in sub_stock:\n",
    "            open, high, low, close, volume = row_sub_stock[1:6]\n",
    "            trading_value = close * volume\n",
    "            lst_data += [open, high, low, close, trading_value]\n",
    "            del open\n",
    "        data = ','.join(map(str, lst_data))\n",
    "        \n",
    "        # label\n",
    "        label = int(lst_stock[i+1][-1] >= 0.03)\n",
    "        \n",
    "        result = '{}\\t{}\\t{}\\t{}\\n'.format(code, date.strftime(\"%Y%m%d\"), data, label)\n",
    "        OF.write(result)\n",
    "OF.close()"
   ]
  },
  {
   "cell_type": "code",
   "execution_count": null,
   "id": "73c37dd3",
   "metadata": {},
   "outputs": [],
   "source": []
  },
  {
   "cell_type": "code",
   "execution_count": null,
   "id": "f82fbab5",
   "metadata": {},
   "outputs": [],
   "source": []
  },
  {
   "cell_type": "markdown",
   "id": "0f279e3a",
   "metadata": {},
   "source": [
    "# 과제 4-1\n",
    "학습 데이터셋(assignment3.txt)를 받아서 모델을 학습하여 저장(model_????.pickle)"
   ]
  },
  {
   "cell_type": "code",
   "execution_count": 3,
   "id": "91e54b88",
   "metadata": {},
   "outputs": [],
   "source": [
    "import numpy as np\n",
    "import sklearn.metrics as metrics\n",
    "import pickle\n",
    "from sklearn.linear_model import LogisticRegression\n",
    "\n",
    "IF=open(\"assignment3_백억.txt\",'r')\n",
    "lst_code_date=[]\n",
    "trainX=[]\n",
    "trainY=[]\n",
    "for line in IF:\n",
    "    code, date, x, y = line.strip().split(\"\\t\")\n",
    "    lst_code_date.append([code, date])\n",
    "    trainX.append(list(map(int, x.split(\",\"))))\n",
    "    trainY.append(int(y))\n",
    "trainX=np.array(trainX)\n",
    "trainY=np.array(trainY)\n",
    "\n",
    "clf = LogisticRegression(C=100,solver='lbfgs',max_iter=1000,n_jobs=1)\n",
    "clf.fit(trainX, trainY)\n",
    "\n",
    "with open('model_logistic.pickle', 'wb') as f:\n",
    "    pickle.dump(clf, f)"
   ]
  },
  {
   "cell_type": "markdown",
   "id": "6347661d",
   "metadata": {},
   "source": [
    "# 과제 4-2 (상반기)\n",
    "\n",
    "학습한 모델(model_????.pickle)과 시험 데이터셋(assignment3-2.txt)을 받아서 상승 여부 예측"
   ]
  },
  {
   "cell_type": "code",
   "execution_count": 4,
   "id": "1a30b0cd",
   "metadata": {},
   "outputs": [],
   "source": [
    "import numpy as np\n",
    "import sklearn.metrics as metrics\n",
    "import pickle\n",
    "from sklearn.linear_model import LogisticRegression\n",
    "\n",
    "IF=open(\"assignment3-2_백억.txt\",'r')\n",
    "lst_code_date=[]\n",
    "testX=[]\n",
    "testY=[]\n",
    "for line in IF:\n",
    "    code, date, x, y = line.strip().split(\"\\t\")\n",
    "    lst_code_date.append([code, date])\n",
    "    testX.append(list(map(int, x.split(\",\"))))\n",
    "    testY.append(int(y))\n",
    "testX=np.array(testX)\n",
    "testY=np.array(testY)\n",
    "\n",
    "with open('model_logistic.pickle', 'rb') as f:\n",
    "    clf = pickle.load(f)\n",
    "    \n",
    "predY = clf.predict_proba(testX) # predict_proba 함수는 예측한 값을 확률 값으로 출력\n",
    "predY2 = clf.predict(testX)  # predict 함수는 예측한 값을 이진 값(1 또는 0)으로 출력\n"
   ]
  },
  {
   "cell_type": "markdown",
   "id": "87a03706",
   "metadata": {},
   "source": [
    "# 과제 4-3 (상반기)\n",
    "\n",
    "예측한 값으로부터 주문 요청 일지(assignment4.txt) 작성"
   ]
  },
  {
   "cell_type": "code",
   "execution_count": 5,
   "id": "5ce6eadd",
   "metadata": {},
   "outputs": [],
   "source": [
    "lst_output=[]\n",
    "for (code, date), y in zip(lst_code_date, predY):\n",
    "    if y[1] >=0.47 : # 해당일의 다음날 2% 이상 상승될 확률이 0.35이상이면\n",
    "        lst_output.append([code, date, \"buy\", \"r90\"])  # 해당일에 보유 금액의 10%를 매수 요청\n",
    "        lst_output.append([code, date+'n', \"sell\", \"all\"])  # 다음날(다음날이라는 의미로 날짜 뒤에 n을 추가) 전부 매도 요청\n",
    "        \n",
    "lst_output.sort(key=lambda x:x[1]) # date 기준으로 주문 요청 결과를 정렬\n",
    "\n",
    "OF=open(\"trading2022firsthalf.txt\",'w') # 주문 요청 일지를 파일로 기록\n",
    "for row in lst_output:\n",
    "    OF.write(\"\\t\".join(map(str, row))+\"\\n\")\n",
    "OF.close()"
   ]
  },
  {
   "cell_type": "markdown",
   "id": "bad0d405",
   "metadata": {},
   "source": [
    "# 상반기 수익률\n",
    "\n"
   ]
  },
  {
   "cell_type": "code",
   "execution_count": 6,
   "id": "6b1c9b53",
   "metadata": {
    "scrolled": true
   },
   "outputs": [
    {
     "name": "stderr",
     "output_type": "stream",
     "text": [
      "1220it [00:04, 296.06it/s]"
     ]
    },
    {
     "name": "stdout",
     "output_type": "stream",
     "text": [
      "Final earning rate : 203.17 %\n"
     ]
    },
    {
     "name": "stderr",
     "output_type": "stream",
     "text": [
      "\n"
     ]
    }
   ],
   "source": [
    "start_money = 10000000 # 초기 현금 1천만원\n",
    "money = start_money\n",
    "dic_code2num ={}  # 보유 종목\n",
    "\n",
    "IF=open(\"trading2022firsthalf.txt\",'r')\n",
    "\n",
    "\n",
    "for i, line in enumerate(tqdm(IF)): #주문 일지를 한 줄 읽어 옴\n",
    "    code, date, request, amount = line.strip().split(\"\\t\")\n",
    "    sql_query = '''\n",
    "                SELECT *\n",
    "                FROM stock_{}\n",
    "                WHERE Date\n",
    "                between  '2021-01-01' AND '2021-08-01'\n",
    "                '''.format(code,date)\n",
    "    stock = pd.read_sql(sql = sql_query, con = db_dsml)\n",
    "    lst_stock1 = stock.values.tolist()\n",
    "        \n",
    "    \n",
    "    if 'n' in date:\n",
    "        for ii, row in enumerate(lst_stock1):\n",
    "            date2 = row[0].strftime(\"%Y%m%d\")\n",
    "            if date2== date.rstrip('n'):\n",
    "                nextday_close=lst_stock1[ii+1][4]\n",
    "            \n",
    "    else:\n",
    "        for row2 in lst_stock1:\n",
    "            today_date=row2[0].strftime(\"%Y%m%d\")\n",
    "            if today_date in date:\n",
    "                today_close= row2[4]\n",
    "\n",
    "                \n",
    "                \n",
    "    if request == 'buy': # buy인 경우\n",
    "        if amount.startswith('r'):\n",
    "            request_money = money * float(amount.lstrip(\"r\")) / 100\n",
    "        elif amount == 'all':\n",
    "            request_money = money\n",
    "        elif amount.isdigit():\n",
    "            request_money = int(amount)\n",
    "            \n",
    "        # elif amount == ~~~~~    ##### 기타 필요한 매수 요청 옵션이 있을 시 작성\n",
    "        else:\n",
    "            raise Exception('Not permitted option')\n",
    "        request_money = min(request_money, money)\n",
    "        buy_num = int(request_money / today_close)\n",
    "        money -= buy_num * today_close  # 현재 금액(money)을 실제 매수액을 뺀 만큼 업데이트\n",
    "        if code not in dic_code2num:\n",
    "            dic_code2num[code] = 0\n",
    "        dic_code2num[code] += buy_num # 보유 종목 데이터에 구매 종목(code)를 매수 개수 만큼 증가\n",
    "    if request == 'sell': # sell인 경우\n",
    "        if amount == 'all':\n",
    "            sell_num = dic_code2num[code]\n",
    "        # elif amount == ~~~~~    ##### 기타 필요한 매도 요청 옵션이 있을 시 작성\n",
    "        else:\n",
    "            raise Exception('Not permitted option')            \n",
    "        money += sell_num * nextday_close\n",
    "        dic_code2num[code] -= sell_num\n",
    "        if dic_code2num[code] == 0:\n",
    "            del dic_code2num[code]\n",
    "IF.close()            \n",
    "            \n",
    "if dic_code2num != {}: # 매매가 종료되었는데 보유 종목이 있으면\n",
    "    raise Exception('Not empty stock') \n",
    "\n",
    "print(\"Final earning rate : {:.2f} %\".format(float((money-start_money) / start_money * 100)))"
   ]
  },
  {
   "cell_type": "markdown",
   "id": "ceae335b",
   "metadata": {},
   "source": [
    "# 하반기 "
   ]
  },
  {
   "cell_type": "code",
   "execution_count": 305,
   "id": "4025e185",
   "metadata": {},
   "outputs": [],
   "source": [
    "# 훈련데이터\n",
    "\n",
    "import numpy as np\n",
    "import sklearn.metrics as metrics\n",
    "import pickle\n",
    "from sklearn.linear_model import LogisticRegression\n",
    "\n",
    "IF=open(\"assignment3_백억.txt\",'r')\n",
    "lst_code_date=[]\n",
    "trainX=[]\n",
    "trainY=[]\n",
    "for line in IF:\n",
    "    code, date, x, y = line.strip().split(\"\\t\")\n",
    "    lst_code_date.append([code, date])\n",
    "    trainX.append(list(map(int, x.split(\",\"))))\n",
    "    trainY.append(int(y))\n",
    "trainX=np.array(trainX)\n",
    "trainY=np.array(trainY)\n",
    "\n",
    "clf = LogisticRegression(C=100,solver='lbfgs',max_iter=1000,n_jobs=1)\n",
    "clf.fit(trainX, trainY)\n",
    "\n",
    "with open('model_logistic.pickle', 'wb') as f:\n",
    "    pickle.dump(clf, f)"
   ]
  },
  {
   "cell_type": "markdown",
   "id": "771b45cd",
   "metadata": {},
   "source": [
    "# 과제 4-3 (하반기)"
   ]
  },
  {
   "cell_type": "code",
   "execution_count": 7,
   "id": "9b7e2212",
   "metadata": {},
   "outputs": [],
   "source": [
    "import numpy as np\n",
    "import sklearn.metrics as metrics\n",
    "import pickle\n",
    "from sklearn.linear_model import LogisticRegression\n",
    "\n",
    "IF=open(\"assignment3-3_백억.txt\",'r')\n",
    "lst_code_date=[]\n",
    "testX=[]\n",
    "testY=[]\n",
    "for line in IF:\n",
    "    code, date, x, y = line.strip().split(\"\\t\")\n",
    "    lst_code_date.append([code, date])\n",
    "    testX.append(list(map(int, x.split(\",\"))))\n",
    "    testY.append(int(y))\n",
    "testX=np.array(testX)\n",
    "testY=np.array(testY)\n",
    "\n",
    "with open('model_logistic.pickle', 'rb') as f:\n",
    "    clf = pickle.load(f)\n",
    "    \n",
    "predY = clf.predict_proba(testX) # predict_proba 함수는 예측한 값을 확률 값으로 출력\n",
    "predY2 = clf.predict(testX)  # predict 함수는 예측한 값을 이진 값(1 또는 0)으로 출력\n"
   ]
  },
  {
   "cell_type": "markdown",
   "id": "d620c8ce",
   "metadata": {},
   "source": [
    "# 4-4 (하반기)"
   ]
  },
  {
   "cell_type": "code",
   "execution_count": 8,
   "id": "5c3a19b5",
   "metadata": {},
   "outputs": [],
   "source": [
    "lst_output=[]\n",
    "for (code, date), y in zip(lst_code_date, predY):\n",
    "    if y[1] >=0.4795 : # 해당일의 다음날 2% 이상 상승될 확률이 0.35이상이면\n",
    "        lst_output.append([code, date, \"buy\", \"r90\"])  # 해당일에 보유 금액의 10%를 매수 요청\n",
    "        lst_output.append([code, date+'n', \"sell\", \"all\"])  # 다음날(다음날이라는 의미로 날짜 뒤에 n을 추가) 전부 매도 요청\n",
    "        \n",
    "lst_output.sort(key=lambda x:x[1]) # date 기준으로 주문 요청 결과를 정렬\n",
    "\n",
    "OF=open(\"trading2022secondhalf.txt\",'w') # 주문 요청 일지를 파일로 기록\n",
    "for row in lst_output:\n",
    "    OF.write(\"\\t\".join(map(str, row))+\"\\n\")\n",
    "OF.close()"
   ]
  },
  {
   "cell_type": "markdown",
   "id": "e8fe70ed",
   "metadata": {},
   "source": [
    "# 하반기 수익률"
   ]
  },
  {
   "cell_type": "code",
   "execution_count": 9,
   "id": "fc2565f7",
   "metadata": {
    "scrolled": false
   },
   "outputs": [
    {
     "name": "stderr",
     "output_type": "stream",
     "text": [
      "124it [00:00, 194.72it/s]"
     ]
    },
    {
     "name": "stdout",
     "output_type": "stream",
     "text": [
      "Final earning rate : 39.95 %\n"
     ]
    },
    {
     "name": "stderr",
     "output_type": "stream",
     "text": [
      "\n"
     ]
    }
   ],
   "source": [
    "start_money = 10000000 # 초기 현금 1천만원\n",
    "money = start_money\n",
    "dic_code2num ={}  # 보유 종목\n",
    "\n",
    "IF=open(\"trading2022secondhalf.txt\",'r')\n",
    "\n",
    "\n",
    "for i, line in enumerate(tqdm(IF)): #주문 일지를 한 줄 읽어 옴\n",
    "    code, date, request, amount = line.strip().split(\"\\t\")\n",
    "    sql_query = '''\n",
    "                SELECT *\n",
    "                FROM stock_{}\n",
    "                WHERE Date\n",
    "                between  '2021-01-01' AND '2022-01-01'\n",
    "                '''.format(code,date)\n",
    "    stock = pd.read_sql(sql = sql_query, con = db_dsml)\n",
    "    lst_stock1 = stock.values.tolist()\n",
    "        \n",
    "    \n",
    "    if 'n' in date:\n",
    "        for ii, row in enumerate(lst_stock1):\n",
    "            date2 = row[0].strftime(\"%Y%m%d\")\n",
    "            if date2== date.rstrip('n'):\n",
    "                nextday_close=lst_stock1[ii+1][4]\n",
    "            \n",
    "    else:\n",
    "        for row2 in lst_stock1:\n",
    "            today_date=row2[0].strftime(\"%Y%m%d\")\n",
    "            if today_date in date:\n",
    "                today_close= row2[4]\n",
    "\n",
    "                \n",
    "                \n",
    "    if request == 'buy': # buy인 경우\n",
    "        if amount.startswith('r'):\n",
    "            request_money = money * float(amount.lstrip(\"r\")) / 100\n",
    "        elif amount == 'all':\n",
    "            request_money = money\n",
    "        elif amount.isdigit():\n",
    "            request_money = int(amount)\n",
    "            \n",
    "        # elif amount == ~~~~~    ##### 기타 필요한 매수 요청 옵션이 있을 시 작성\n",
    "        else:\n",
    "            raise Exception('Not permitted option')\n",
    "        request_money = min(request_money, money)\n",
    "        buy_num = int(request_money / today_close)\n",
    "        money -= buy_num * today_close  # 현재 금액(money)을 실제 매수액을 뺀 만큼 업데이트\n",
    "        if code not in dic_code2num:\n",
    "            dic_code2num[code] = 0\n",
    "        dic_code2num[code] += buy_num # 보유 종목 데이터에 구매 종목(code)를 매수 개수 만큼 증가\n",
    "    if request == 'sell': # sell인 경우\n",
    "        if amount == 'all':\n",
    "            sell_num = dic_code2num[code]\n",
    "        # elif amount == ~~~~~    ##### 기타 필요한 매도 요청 옵션이 있을 시 작성\n",
    "        else:\n",
    "            raise Exception('Not permitted option')            \n",
    "        money += sell_num * nextday_close\n",
    "        dic_code2num[code] -= sell_num\n",
    "        if dic_code2num[code] == 0:\n",
    "            del dic_code2num[code]\n",
    "IF.close()            \n",
    "            \n",
    "if dic_code2num != {}: # 매매가 종료되었는데 보유 종목이 있으면\n",
    "    raise Exception('Not empty stock') \n",
    "\n",
    "print(\"Final earning rate : {:.2f} %\".format(float((money-start_money) / start_money * 100)))"
   ]
  },
  {
   "cell_type": "code",
   "execution_count": 103,
   "id": "d169bfce",
   "metadata": {},
   "outputs": [
    {
     "data": {
      "text/plain": [
       "8.391740913114939"
      ]
     },
     "execution_count": 103,
     "metadata": {},
     "output_type": "execute_result"
    }
   ],
   "source": []
  },
  {
   "cell_type": "code",
   "execution_count": null,
   "id": "1485cbb4",
   "metadata": {},
   "outputs": [],
   "source": []
  }
 ],
 "metadata": {
  "kernelspec": {
   "display_name": "Python 3 (ipykernel)",
   "language": "python",
   "name": "python3"
  },
  "language_info": {
   "codemirror_mode": {
    "name": "ipython",
    "version": 3
   },
   "file_extension": ".py",
   "mimetype": "text/x-python",
   "name": "python",
   "nbconvert_exporter": "python",
   "pygments_lexer": "ipython3",
   "version": "3.8.12"
  },
  "toc": {
   "base_numbering": 1,
   "nav_menu": {},
   "number_sections": true,
   "sideBar": true,
   "skip_h1_title": false,
   "title_cell": "Table of Contents",
   "title_sidebar": "Contents",
   "toc_cell": false,
   "toc_position": {
    "height": "calc(100% - 180px)",
    "left": "10px",
    "top": "150px",
    "width": "344.6px"
   },
   "toc_section_display": true,
   "toc_window_display": false
  }
 },
 "nbformat": 4,
 "nbformat_minor": 5
}
